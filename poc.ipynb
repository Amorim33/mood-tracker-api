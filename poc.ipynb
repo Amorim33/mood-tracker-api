{
 "cells": [
  {
   "cell_type": "markdown",
   "metadata": {},
   "source": [
    "# Mood Tracker POC\n",
    "\n",
    "This notebook contains a proof of concept for the mood tracker endpoints."
   ]
  },
  {
   "cell_type": "markdown",
   "metadata": {},
   "source": [
    "`/api/v1/mood` - receives a `WAV` file and returns the mood of the speaker."
   ]
  },
  {
   "cell_type": "code",
   "execution_count": 20,
   "metadata": {},
   "outputs": [
    {
     "name": "stdout",
     "output_type": "stream",
     "text": [
      "Text: today I had a stunning day it was very very good I went out with my girlfriend\n",
      "Score:0.7245\n",
      "Mood: Happy\n"
     ]
    }
   ],
   "source": [
    "import speech_recognition as sr\n",
    "from vaderSentiment.vaderSentiment import SentimentIntensityAnalyzer\n",
    "\n",
    "\n",
    "def sentiment_scores(sentence):\n",
    "    sid_obj = SentimentIntensityAnalyzer()\n",
    "    sentiment_dict = sid_obj.polarity_scores(sentence)\n",
    "\n",
    "    return sentiment_dict[\"compound\"]\n",
    "\n",
    "\n",
    "recognizer = sr.Recognizer()\n",
    "\n",
    "with sr.AudioFile(\"assets/happy.wav\") as source:\n",
    "    audio = recognizer.record(source)\n",
    "\n",
    "text = recognizer.recognize_google(audio)\n",
    "print(\"Text: \" + text)\n",
    "\n",
    "score = sentiment_scores(text)\n",
    "print(\"Score:\" + str(score))\n",
    "\n",
    "if score >= 0.05:\n",
    "    print(\"Mood: Happy\")\n",
    "elif score <= -0.05:\n",
    "    print(\"Mood: Sad\")\n",
    "else:\n",
    "    print(\"Mood: Neutral\")"
   ]
  },
  {
   "cell_type": "markdown",
   "metadata": {},
   "source": [
    "`/api/v2/mood` - receives any audio file format and returns the mood of the speaker."
   ]
  },
  {
   "cell_type": "code",
   "execution_count": 21,
   "metadata": {},
   "outputs": [
    {
     "name": "stdout",
     "output_type": "stream",
     "text": [
      "\n",
      "\n",
      "\n",
      "\n"
     ]
    },
    {
     "name": "stderr",
     "output_type": "stream",
     "text": [
      "ffmpeg version 4.2.7-0ubuntu0.1 Copyright (c) 2000-2022 the FFmpeg developers\n",
      "  built with gcc 9 (Ubuntu 9.4.0-1ubuntu1~20.04.1)\n",
      "  configuration: --prefix=/usr --extra-version=0ubuntu0.1 --toolchain=hardened --libdir=/usr/lib/x86_64-linux-gnu --incdir=/usr/include/x86_64-linux-gnu --arch=amd64 --enable-gpl --disable-stripping --enable-avresample --disable-filter=resample --enable-avisynth --enable-gnutls --enable-ladspa --enable-libaom --enable-libass --enable-libbluray --enable-libbs2b --enable-libcaca --enable-libcdio --enable-libcodec2 --enable-libflite --enable-libfontconfig --enable-libfreetype --enable-libfribidi --enable-libgme --enable-libgsm --enable-libjack --enable-libmp3lame --enable-libmysofa --enable-libopenjpeg --enable-libopenmpt --enable-libopus --enable-libpulse --enable-librsvg --enable-librubberband --enable-libshine --enable-libsnappy --enable-libsoxr --enable-libspeex --enable-libssh --enable-libtheora --enable-libtwolame --enable-libvidstab --enable-libvorbis --enable-libvpx --enable-libwavpack --enable-libwebp --enable-libx265 --enable-libxml2 --enable-libxvid --enable-libzmq --enable-libzvbi --enable-lv2 --enable-omx --enable-openal --enable-opencl --enable-opengl --enable-sdl2 --enable-libdc1394 --enable-libdrm --enable-libiec61883 --enable-nvenc --enable-chromaprint --enable-frei0r --enable-libx264 --enable-shared\n",
      "  libavutil      56. 31.100 / 56. 31.100\n",
      "  libavcodec     58. 54.100 / 58. 54.100\n",
      "  libavformat    58. 29.100 / 58. 29.100\n",
      "  libavdevice    58.  8.100 / 58.  8.100\n",
      "  libavfilter     7. 57.100 /  7. 57.100\n",
      "  libavresample   4.  0.  0 /  4.  0.  0\n",
      "  libswscale      5.  5.100 /  5.  5.100\n",
      "  libswresample   3.  5.100 /  3.  5.100\n",
      "  libpostproc    55.  5.100 / 55.  5.100\n",
      "Input #0, matroska,webm, from 'assets/input.webm':\n",
      "  Metadata:\n",
      "    ENCODER         : Lavf58.29.100\n",
      "  Duration: 00:00:09.82, start: -0.007000, bitrate: 79 kb/s\n",
      "    Stream #0:0: Audio: opus, 48000 Hz, stereo, fltp (default)\n",
      "    Metadata:\n",
      "      ENCODER         : Lavc58.54.100 libopus\n",
      "      DURATION        : 00:00:09.821000000\n",
      "Stream mapping:\n",
      "  Stream #0:0 -> #0:0 (opus (native) -> pcm_s16le (native))\n",
      "Press [q] to stop, [?] for help\n",
      "Output #0, wav, to 'assets/output.wav':\n",
      "  Metadata:\n",
      "    ISFT            : Lavf58.29.100\n",
      "    Stream #0:0: Audio: pcm_s16le ([1][0][0][0] / 0x0001), 48000 Hz, stereo, s16, 1536 kb/s (default)\n",
      "    Metadata:\n",
      "      DURATION        : 00:00:09.821000000\n",
      "      encoder         : Lavc58.54.100 pcm_s16le\n",
      "size=    1840kB time=00:00:09.82 bitrate=1535.0kbits/s speed= 351x    \n",
      "video:0kB audio:1840kB subtitle:0kB other streams:0kB global headers:0kB muxing overhead: 0.004140%\n"
     ]
    },
    {
     "name": "stdout",
     "output_type": "stream",
     "text": [
      "Text: today I had a stunning day it was very very good I went out with my girlfriend\n",
      "Score:0.7245\n",
      "Mood: Happy\n"
     ]
    }
   ],
   "source": [
    "import speech_recognition as sr\n",
    "from vaderSentiment.vaderSentiment import SentimentIntensityAnalyzer\n",
    "import ffmpeg\n",
    "\n",
    "input_path = \"assets/input.webm\"\n",
    "output_path = \"assets/output.wav\"\n",
    "\n",
    "ffmpeg.input(input_path).output(output_path).run(overwrite_output=True)\n",
    "\n",
    "recognizer = sr.Recognizer()\n",
    "with sr.AudioFile(output_path) as source:\n",
    "    audio = recognizer.record(source)\n",
    "\n",
    "print(\"\\n\\n\\n\")\n",
    "text = recognizer.recognize_google(audio)\n",
    "print(\"Text: \" + text)\n",
    "\n",
    "score = sentiment_scores(text)\n",
    "print(\"Score:\" + str(score))\n",
    "\n",
    "if score >= 0.05:\n",
    "    print(\"Mood: Happy\")\n",
    "elif score <= -0.05:\n",
    "    print(\"Mood: Sad\")\n",
    "else:\n",
    "    print(\"Mood: Neutral\")"
   ]
  }
 ],
 "metadata": {
  "kernelspec": {
   "display_name": ".venv",
   "language": "python",
   "name": "python3"
  },
  "language_info": {
   "codemirror_mode": {
    "name": "ipython",
    "version": 3
   },
   "file_extension": ".py",
   "mimetype": "text/x-python",
   "name": "python",
   "nbconvert_exporter": "python",
   "pygments_lexer": "ipython3",
   "version": "3.10.12"
  },
  "orig_nbformat": 4
 },
 "nbformat": 4,
 "nbformat_minor": 2
}
