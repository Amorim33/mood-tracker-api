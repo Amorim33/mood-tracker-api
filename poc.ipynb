{
 "cells": [
  {
   "cell_type": "code",
   "execution_count": 4,
   "metadata": {},
   "outputs": [
    {
     "name": "stdout",
     "output_type": "stream",
     "text": [
      "Text: today I had a stunning day it was very very good I went out with my girlfriend\n",
      "Score:0.7245\n",
      "Mood: Happy\n"
     ]
    }
   ],
   "source": [
    "import speech_recognition as sr\n",
    "from vaderSentiment.vaderSentiment import SentimentIntensityAnalyzer\n",
    "\n",
    "\n",
    "def sentiment_scores(sentence):\n",
    "    sid_obj = SentimentIntensityAnalyzer()\n",
    "    sentiment_dict = sid_obj.polarity_scores(sentence)\n",
    "\n",
    "    return sentiment_dict[\"compound\"]\n",
    "\n",
    "\n",
    "recognizer = sr.Recognizer()\n",
    "\n",
    "with sr.AudioFile(\"record.wav\") as source:\n",
    "    audio = recognizer.record(source)\n",
    "\n",
    "try:\n",
    "    text = recognizer.recognize_google(audio)\n",
    "    print(\"Text: \" + text)\n",
    "\n",
    "    score = sentiment_scores(text)\n",
    "    print(\"Score:\" + str(score))\n",
    "\n",
    "    if score >= 0.05:\n",
    "        print(\"Mood: Happy\")\n",
    "    elif score <= -0.05:\n",
    "        print(\"Mood: Sad\")\n",
    "    else:\n",
    "        print(\"Mood: Neutral\")\n",
    "\n",
    "except sr.UnknownValueError:\n",
    "    print(\"Audio could not be understood.\")\n",
    "except sr.RequestError as e:\n",
    "    print(\n",
    "        \"Could not request results from Google Speech Recognition service; {0}\".format(\n",
    "            e\n",
    "        )\n",
    "    )"
   ]
  }
 ],
 "metadata": {
  "kernelspec": {
   "display_name": ".venv",
   "language": "python",
   "name": "python3"
  },
  "language_info": {
   "codemirror_mode": {
    "name": "ipython",
    "version": 3
   },
   "file_extension": ".py",
   "mimetype": "text/x-python",
   "name": "python",
   "nbconvert_exporter": "python",
   "pygments_lexer": "ipython3",
   "version": "3.10.12"
  },
  "orig_nbformat": 4
 },
 "nbformat": 4,
 "nbformat_minor": 2
}
